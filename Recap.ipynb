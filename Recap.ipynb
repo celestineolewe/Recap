{
 "cells": [
  {
   "cell_type": "code",
   "execution_count": 1,
   "metadata": {},
   "outputs": [
    {
     "name": "stdout",
     "output_type": "stream",
     "text": [
      "['you', 'With you']\n"
     ]
    }
   ],
   "source": [
    "\n",
    "movies = [\"you\", \"With you\"]\n",
    "print(movies)\n",
    "          \n"
   ]
  },
  {
   "cell_type": "code",
   "execution_count": 2,
   "metadata": {},
   "outputs": [
    {
     "name": "stdout",
     "output_type": "stream",
     "text": [
      "18.0\n"
     ]
    }
   ],
   "source": [
    "import numpy as np\n",
    "\n",
    "dataset = np.array([19, 18, 21, 16, 15, 17, 20, 18])\n",
    "\n",
    "mean = np.mean(dataset)\n",
    "\n",
    "print(mean)"
   ]
  },
  {
   "cell_type": "code",
   "execution_count": 5,
   "metadata": {},
   "outputs": [
    {
     "name": "stdout",
     "output_type": "stream",
     "text": [
      "11.0\n"
     ]
    }
   ],
   "source": [
    "import numpy as np\n",
    "\n",
    "dataset = [22, 56, 11, 4, -17, 6, 80]\n",
    "\n",
    "median = np.median(dataset)\n",
    "print(median)"
   ]
  },
  {
   "cell_type": "code",
   "execution_count": 6,
   "metadata": {},
   "outputs": [
    {
     "name": "stdout",
     "output_type": "stream",
     "text": [
      "8.5\n"
     ]
    }
   ],
   "source": [
    "import numpy as np\n",
    "\n",
    "dataset = [22, 56, 11, 4, -17, 6, 80, -126]\n",
    "\n",
    "median = np.median(dataset)\n",
    "print(median)"
   ]
  },
  {
   "cell_type": "code",
   "execution_count": 11,
   "metadata": {},
   "outputs": [],
   "source": [
    "x = [4, 4, 4, 9, 5, 0, 5, 1, 5, 3, 5, 7, 5, 8, 6, 2, 6, 6, 6, 6, 6, 8, 7, 1, 7, 5, 7, 7, 8, 0, 8, 5,]"
   ]
  },
  {
   "cell_type": "code",
   "execution_count": 12,
   "metadata": {},
   "outputs": [],
   "source": [
    "x = sorted(x)"
   ]
  },
  {
   "cell_type": "code",
   "execution_count": 13,
   "metadata": {},
   "outputs": [],
   "source": [
    "distance = len(x) -1"
   ]
  },
  {
   "cell_type": "code",
   "execution_count": 14,
   "metadata": {},
   "outputs": [
    {
     "data": {
      "text/plain": [
       "7.75"
      ]
     },
     "execution_count": 14,
     "metadata": {},
     "output_type": "execute_result"
    }
   ],
   "source": [
    "index_p25 = 0.25*distance\n",
    "index_p25"
   ]
  },
  {
   "cell_type": "code",
   "execution_count": 15,
   "metadata": {},
   "outputs": [
    {
     "data": {
      "text/plain": [
       "23.25"
      ]
     },
     "execution_count": 15,
     "metadata": {},
     "output_type": "execute_result"
    }
   ],
   "source": [
    "index_p75 = 0.75*distance\n",
    "index_p75"
   ]
  },
  {
   "cell_type": "code",
   "execution_count": 16,
   "metadata": {},
   "outputs": [
    {
     "data": {
      "text/plain": [
       "4"
      ]
     },
     "execution_count": 16,
     "metadata": {},
     "output_type": "execute_result"
    }
   ],
   "source": [
    "p25 = x[int(index_p25)]\n",
    "p25"
   ]
  },
  {
   "cell_type": "code",
   "execution_count": 17,
   "metadata": {},
   "outputs": [
    {
     "data": {
      "text/plain": [
       "7"
      ]
     },
     "execution_count": 17,
     "metadata": {},
     "output_type": "execute_result"
    }
   ],
   "source": [
    "p75 = x[int(index_p75)]\n",
    "p75"
   ]
  },
  {
   "cell_type": "code",
   "execution_count": 18,
   "metadata": {},
   "outputs": [
    {
     "data": {
      "text/plain": [
       "3"
      ]
     },
     "execution_count": 18,
     "metadata": {},
     "output_type": "execute_result"
    }
   ],
   "source": [
    "iqr = p75 - p25\n",
    "iqr"
   ]
  },
  {
   "cell_type": "code",
   "execution_count": 19,
   "metadata": {},
   "outputs": [
    {
     "name": "stdout",
     "output_type": "stream",
     "text": [
      "40321.5\n"
     ]
    }
   ],
   "source": [
    "import numpy as np\n",
    "\n",
    "dataset = [40650, 40812,41300, 41450, 39594, 40734, 39993, 38814, 37828, 35716]\n",
    "\n",
    "median = np.median(dataset)\n",
    "print(median)"
   ]
  },
  {
   "cell_type": "code",
   "execution_count": 2,
   "metadata": {},
   "outputs": [
    {
     "name": "stdout",
     "output_type": "stream",
     "text": [
      "!\n"
     ]
    }
   ],
   "source": [
    "x = \"Hello, World!\"[-1]\n",
    "print(x)"
   ]
  },
  {
   "cell_type": "code",
   "execution_count": 3,
   "metadata": {},
   "outputs": [
    {
     "name": "stdout",
     "output_type": "stream",
     "text": [
      "2\n",
      "3\n",
      "4\n",
      "5\n",
      "6\n",
      "7\n"
     ]
    }
   ],
   "source": [
    "for x in range(6):\n",
    "    print(x + 2)\n"
   ]
  },
  {
   "cell_type": "code",
   "execution_count": 4,
   "metadata": {},
   "outputs": [
    {
     "data": {
      "text/plain": [
       "False"
      ]
     },
     "execution_count": 4,
     "metadata": {},
     "output_type": "execute_result"
    }
   ],
   "source": [
    "\"def\" in [\"a\", \"b\", \"c\", \"d\", \"e\", \"f\"]"
   ]
  },
  {
   "cell_type": "code",
   "execution_count": 5,
   "metadata": {},
   "outputs": [
    {
     "name": "stdout",
     "output_type": "stream",
     "text": [
      "Good morning\n"
     ]
    }
   ],
   "source": [
    "time = 800\n",
    "if time < 1200:\n",
    "    print(\"Good morning\")\n",
    "else:\n",
    "    print(\"Hello\")"
   ]
  },
  {
   "cell_type": "code",
   "execution_count": 6,
   "metadata": {},
   "outputs": [
    {
     "name": "stdout",
     "output_type": "stream",
     "text": [
      "index: 0, value: 5\n",
      "index: 1, value: 4\n",
      "index: 2, value: 3\n",
      "index: 3, value: 2\n"
     ]
    }
   ],
   "source": [
    "x = [5, 4, 3, 2]\n",
    "for index in range(len(x)):\n",
    "    print(\"index: {}, value: {}\".format(index, x[index]))"
   ]
  },
  {
   "cell_type": "code",
   "execution_count": 8,
   "metadata": {},
   "outputs": [
    {
     "name": "stdout",
     "output_type": "stream",
     "text": [
      "['King', 'Pierce', 'Snohomish']\n"
     ]
    }
   ],
   "source": [
    "counties = [\n",
    "    {\"name\": \"Bronx\", \"statistical_area\": \"New York\"},\n",
    "    {\"name\": \"Cook\", \"statistical_area\": \"Chicago\"},\n",
    "    {\"name\": \"DuPage\", \"statistical_area\": \"Chicago\"},\n",
    "    {\"name\": \"King\", \"statistical_area\": \"Seattle\"},\n",
    "    {\"name\": \"New York\", \"statistical_area\": \"New York\"},\n",
    "    {\"name\": \"Pierce\", \"statistical_area\": \"Seattle\"},\n",
    "    {\"name\": \"Queens\", \"statistical_area\": \"New York\"},\n",
    "    {\"name\": \"Snohomish\", \"statistical_area\": \"Seattle\"},\n",
    "    {\"name\": \"Will\", \"statistical_area\": \"Chicago\"}\n",
    "]\n",
    "seattle_county_names = []\n",
    "for county in counties:\n",
    "    if county[\"statistical_area\"] == \"Seattle\":\n",
    "        seattle_county_names.append(county[\"name\"])\n",
    "print(seattle_county_names)"
   ]
  },
  {
   "cell_type": "code",
   "execution_count": 10,
   "metadata": {},
   "outputs": [
    {
     "name": "stdout",
     "output_type": "stream",
     "text": [
      "yz\n"
     ]
    }
   ],
   "source": [
    "def x():\n",
    "    return \"x\"\n",
    "\n",
    "def y():\n",
    "    return \"y\"\n",
    "\n",
    "def z():\n",
    "    return \"z\"\n",
    "\n",
    "x = y() + z()\n",
    "print(x)"
   ]
  },
  {
   "cell_type": "code",
   "execution_count": 11,
   "metadata": {},
   "outputs": [
    {
     "ename": "SyntaxError",
     "evalue": "expected ':' (3975716044.py, line 1)",
     "output_type": "error",
     "traceback": [
      "\u001b[1;36m  Cell \u001b[1;32mIn[11], line 1\u001b[1;36m\u001b[0m\n\u001b[1;33m    def max_or_min(numbers, command)\u001b[0m\n\u001b[1;37m                                    ^\u001b[0m\n\u001b[1;31mSyntaxError\u001b[0m\u001b[1;31m:\u001b[0m expected ':'\n"
     ]
    }
   ],
   "source": [
    "def max_or_min(numbers, command)\n",
    "    if command == \"max\"\n",
    "        return numbers.max()\n",
    "    elsif command == \"min\"\n",
    "        return numbers.min()\n",
    "    end\n",
    "end"
   ]
  },
  {
   "cell_type": "code",
   "execution_count": null,
   "metadata": {},
   "outputs": [],
   "source": [
    "name_list = [\"Hellen\", \"Pauline\" , \"Imelda\"]\n",
    "for name in na"
   ]
  }
 ],
 "metadata": {
  "kernelspec": {
   "display_name": "Python (learn-env)",
   "language": "python",
   "name": "learn-env"
  },
  "language_info": {
   "codemirror_mode": {
    "name": "ipython",
    "version": 3
   },
   "file_extension": ".py",
   "mimetype": "text/x-python",
   "name": "python",
   "nbconvert_exporter": "python",
   "pygments_lexer": "ipython3",
   "version": "3.10.9"
  }
 },
 "nbformat": 4,
 "nbformat_minor": 5
}
